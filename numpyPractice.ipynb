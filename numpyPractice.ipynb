{
  "nbformat": 4,
  "nbformat_minor": 0,
  "metadata": {
    "colab": {
      "name": "numpyPractice.ipynb",
      "provenance": [],
      "collapsed_sections": [],
      "authorship_tag": "ABX9TyP0VMaWLkG6x2fIkSXEN7O+",
      "include_colab_link": true
    },
    "kernelspec": {
      "name": "python3",
      "display_name": "Python 3"
    },
    "language_info": {
      "name": "python"
    }
  },
  "cells": [
    {
      "cell_type": "markdown",
      "metadata": {
        "id": "view-in-github",
        "colab_type": "text"
      },
      "source": [
        "<a href=\"https://colab.research.google.com/github/swarna2/numpyPractice/blob/main/numpyPractice.ipynb\" target=\"_parent\"><img src=\"https://colab.research.google.com/assets/colab-badge.svg\" alt=\"Open In Colab\"/></a>"
      ]
    },
    {
      "cell_type": "code",
      "execution_count": null,
      "metadata": {
        "colab": {
          "base_uri": "https://localhost:8080/"
        },
        "id": "KFxPeINRoER6",
        "outputId": "ef05ca3e-aeef-4409-fa20-68ab30d11aa6"
      },
      "outputs": [
        {
          "output_type": "stream",
          "name": "stdout",
          "text": [
            "[1 2 3 4 5]\n",
            "[[1 2]\n",
            " [2 3]]\n",
            "[ 5  6  7  8  9 10 11]\n",
            "[51 69 67 57 78 77]\n",
            "[0.59840672 0.26875732 0.44867923 0.22589907 0.19974373 0.41795511]\n",
            "[2.59840672 2.26875732 2.44867923 2.22589907 2.19974373 2.41795511]\n"
          ]
        }
      ],
      "source": [
        "import numpy as np\n",
        "one_dimensional_array=np.array([1,2,3,4,5])\n",
        "two_dimensional_array=np.array([[1,2],[2,3]])\n",
        "sequence_of_integer=np.arange(5,12)\n",
        "random_integers_between_50_and_100=np.random.randint(low=50,high=101,size=6)\n",
        "random_floats_between_0_and_1=np.random.random([6])\n",
        "random_floats_between_2_and_3=random_floats_between_0_and_1+2.0\n",
        "print(one_dimensional_array)\n",
        "print(two_dimensional_array)\n",
        "print(sequence_of_integer)\n",
        "print(random_integers_between_50_and_100)\n",
        "print(random_floats_between_0_and_1)\n",
        "print(random_floats_between_2_and_3)"
      ]
    }
  ]
}